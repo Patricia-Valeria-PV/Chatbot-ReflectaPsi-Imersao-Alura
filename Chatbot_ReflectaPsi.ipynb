{
  "nbformat": 4,
  "nbformat_minor": 0,
  "metadata": {
    "colab": {
      "provenance": [],
      "authorship_tag": "ABX9TyNsg81YVYPPbPeCttwidN3x",
      "include_colab_link": true
    },
    "kernelspec": {
      "name": "python3",
      "display_name": "Python 3"
    },
    "language_info": {
      "name": "python"
    }
  },
  "cells": [
    {
      "cell_type": "markdown",
      "metadata": {
        "id": "view-in-github",
        "colab_type": "text"
      },
      "source": [
        "<a href=\"https://colab.research.google.com/github/Patricia-Valeria-PV/Chatbot-ReflectaPsi-Imersao-Alura/blob/main/Chatbot_ReflectaPsi.ipynb\" target=\"_parent\"><img src=\"https://colab.research.google.com/assets/colab-badge.svg\" alt=\"Open In Colab\"/></a>"
      ]
    },
    {
      "cell_type": "code",
      "source": [
        "!pip install -U google-generativeai"
      ],
      "metadata": {
        "id": "w_YM7PdAdk0e",
        "colab": {
          "base_uri": "https://localhost:8080/"
        },
        "outputId": "552c42d5-4a2f-4357-a6fa-4c87fbb233d2"
      },
      "execution_count": 8,
      "outputs": [
        {
          "output_type": "stream",
          "name": "stdout",
          "text": [
            "Requirement already satisfied: google-generativeai in /usr/local/lib/python3.11/dist-packages (0.8.5)\n",
            "Requirement already satisfied: google-ai-generativelanguage==0.6.15 in /usr/local/lib/python3.11/dist-packages (from google-generativeai) (0.6.15)\n",
            "Requirement already satisfied: google-api-core in /usr/local/lib/python3.11/dist-packages (from google-generativeai) (2.24.2)\n",
            "Requirement already satisfied: google-api-python-client in /usr/local/lib/python3.11/dist-packages (from google-generativeai) (2.169.0)\n",
            "Requirement already satisfied: google-auth>=2.15.0 in /usr/local/lib/python3.11/dist-packages (from google-generativeai) (2.38.0)\n",
            "Requirement already satisfied: protobuf in /usr/local/lib/python3.11/dist-packages (from google-generativeai) (5.29.4)\n",
            "Requirement already satisfied: pydantic in /usr/local/lib/python3.11/dist-packages (from google-generativeai) (2.11.4)\n",
            "Requirement already satisfied: tqdm in /usr/local/lib/python3.11/dist-packages (from google-generativeai) (4.67.1)\n",
            "Requirement already satisfied: typing-extensions in /usr/local/lib/python3.11/dist-packages (from google-generativeai) (4.13.2)\n",
            "Requirement already satisfied: proto-plus<2.0.0dev,>=1.22.3 in /usr/local/lib/python3.11/dist-packages (from google-ai-generativelanguage==0.6.15->google-generativeai) (1.26.1)\n",
            "Requirement already satisfied: googleapis-common-protos<2.0.0,>=1.56.2 in /usr/local/lib/python3.11/dist-packages (from google-api-core->google-generativeai) (1.70.0)\n",
            "Requirement already satisfied: requests<3.0.0,>=2.18.0 in /usr/local/lib/python3.11/dist-packages (from google-api-core->google-generativeai) (2.32.3)\n",
            "Requirement already satisfied: cachetools<6.0,>=2.0.0 in /usr/local/lib/python3.11/dist-packages (from google-auth>=2.15.0->google-generativeai) (5.5.2)\n",
            "Requirement already satisfied: pyasn1-modules>=0.2.1 in /usr/local/lib/python3.11/dist-packages (from google-auth>=2.15.0->google-generativeai) (0.4.2)\n",
            "Requirement already satisfied: rsa<5,>=3.1.4 in /usr/local/lib/python3.11/dist-packages (from google-auth>=2.15.0->google-generativeai) (4.9.1)\n",
            "Requirement already satisfied: httplib2<1.0.0,>=0.19.0 in /usr/local/lib/python3.11/dist-packages (from google-api-python-client->google-generativeai) (0.22.0)\n",
            "Requirement already satisfied: google-auth-httplib2<1.0.0,>=0.2.0 in /usr/local/lib/python3.11/dist-packages (from google-api-python-client->google-generativeai) (0.2.0)\n",
            "Requirement already satisfied: uritemplate<5,>=3.0.1 in /usr/local/lib/python3.11/dist-packages (from google-api-python-client->google-generativeai) (4.1.1)\n",
            "Requirement already satisfied: annotated-types>=0.6.0 in /usr/local/lib/python3.11/dist-packages (from pydantic->google-generativeai) (0.7.0)\n",
            "Requirement already satisfied: pydantic-core==2.33.2 in /usr/local/lib/python3.11/dist-packages (from pydantic->google-generativeai) (2.33.2)\n",
            "Requirement already satisfied: typing-inspection>=0.4.0 in /usr/local/lib/python3.11/dist-packages (from pydantic->google-generativeai) (0.4.0)\n",
            "Requirement already satisfied: grpcio<2.0dev,>=1.33.2 in /usr/local/lib/python3.11/dist-packages (from google-api-core[grpc]!=2.0.*,!=2.1.*,!=2.10.*,!=2.2.*,!=2.3.*,!=2.4.*,!=2.5.*,!=2.6.*,!=2.7.*,!=2.8.*,!=2.9.*,<3.0.0dev,>=1.34.1->google-ai-generativelanguage==0.6.15->google-generativeai) (1.71.0)\n",
            "Requirement already satisfied: grpcio-status<2.0.dev0,>=1.33.2 in /usr/local/lib/python3.11/dist-packages (from google-api-core[grpc]!=2.0.*,!=2.1.*,!=2.10.*,!=2.2.*,!=2.3.*,!=2.4.*,!=2.5.*,!=2.6.*,!=2.7.*,!=2.8.*,!=2.9.*,<3.0.0dev,>=1.34.1->google-ai-generativelanguage==0.6.15->google-generativeai) (1.71.0)\n",
            "Requirement already satisfied: pyparsing!=3.0.0,!=3.0.1,!=3.0.2,!=3.0.3,<4,>=2.4.2 in /usr/local/lib/python3.11/dist-packages (from httplib2<1.0.0,>=0.19.0->google-api-python-client->google-generativeai) (3.2.3)\n",
            "Requirement already satisfied: pyasn1<0.7.0,>=0.6.1 in /usr/local/lib/python3.11/dist-packages (from pyasn1-modules>=0.2.1->google-auth>=2.15.0->google-generativeai) (0.6.1)\n",
            "Requirement already satisfied: charset-normalizer<4,>=2 in /usr/local/lib/python3.11/dist-packages (from requests<3.0.0,>=2.18.0->google-api-core->google-generativeai) (3.4.2)\n",
            "Requirement already satisfied: idna<4,>=2.5 in /usr/local/lib/python3.11/dist-packages (from requests<3.0.0,>=2.18.0->google-api-core->google-generativeai) (3.10)\n",
            "Requirement already satisfied: urllib3<3,>=1.21.1 in /usr/local/lib/python3.11/dist-packages (from requests<3.0.0,>=2.18.0->google-api-core->google-generativeai) (2.4.0)\n",
            "Requirement already satisfied: certifi>=2017.4.17 in /usr/local/lib/python3.11/dist-packages (from requests<3.0.0,>=2.18.0->google-api-core->google-generativeai) (2025.4.26)\n"
          ]
        }
      ]
    },
    {
      "cell_type": "code",
      "source": [
        "import google.generativeai as genai\n",
        "import os\n",
        "from google.colab import userdata\n",
        "from IPython.display import Markdown, display"
      ],
      "metadata": {
        "id": "mfXy9kxkdqH3"
      },
      "execution_count": 2,
      "outputs": []
    },
    {
      "cell_type": "code",
      "source": [
        "# Configurando a chave da API do Google\n",
        "os.environ['GOOGLE_API_KEY'] = userdata.get('GOOGLE_API_KEY')\n",
        "genai.configure(api_key=os.environ['GOOGLE_API_KEY'])"
      ],
      "metadata": {
        "id": "pTWj7qtwdx0I"
      },
      "execution_count": 3,
      "outputs": []
    },
    {
      "cell_type": "code",
      "source": [
        "# Inicializando o modelo Gemini 2.0 Flash\n",
        "model = genai.GenerativeModel('gemini-2.0-flash')\n",
        "print(\"Modelo Gemini 2.0 Flash inicializado com sucesso!\")"
      ],
      "metadata": {
        "colab": {
          "base_uri": "https://localhost:8080/"
        },
        "id": "szD2qwjBd-Kb",
        "outputId": "a5489ab7-795e-4843-f7b5-ea7a0836d800"
      },
      "execution_count": 4,
      "outputs": [
        {
          "output_type": "stream",
          "name": "stdout",
          "text": [
            "Modelo Gemini 2.0 Flash inicializado com sucesso!\n"
          ]
        }
      ]
    },
    {
      "cell_type": "code",
      "source": [
        "# Nome do seu Chatbot\n",
        "ReflectaPsi = \"ReflectaPsi\"\n",
        "print(f\"Olá! Bem-vindo ao seu Chatbot {ReflectaPsi}.\")"
      ],
      "metadata": {
        "colab": {
          "base_uri": "https://localhost:8080/"
        },
        "id": "SczNXOM7eVrf",
        "outputId": "77c02285-92c9-44f2-bc52-7f3637a0afa4"
      },
      "execution_count": 5,
      "outputs": [
        {
          "output_type": "stream",
          "name": "stdout",
          "text": [
            "Olá! Bem-vindo ao seu Chatbot ReflectaPsi.\n"
          ]
        }
      ]
    },
    {
      "cell_type": "code",
      "source": [
        "# Coletando informações da sessão\n",
        "data_sessao = input(\"Data da sessão: \")\n",
        "topicos = input(\"Principais tópicos abordados (palavras-chave): \")\n",
        "intervencoes = input(\"Intervenções utilizadas: \")\n",
        "observacoes = input(\"Suas observações sobre o paciente: \")\n",
        "sentimentos_psicologo = input(\"Seus sentimentos e reações durante a sessão: \")\n",
        "proximos_passos = input(\"Próximos passos/plano de ação: \")\n",
        "dificuldades = input(\"Dificuldades ou desafios encontrados: \")\n",
        "objetivo_reflexao = input(\"Qual o seu objetivo principal para esta reflexão? \")"
      ],
      "metadata": {
        "id": "heLcpI0TebI4",
        "colab": {
          "base_uri": "https://localhost:8080/"
        },
        "outputId": "8cfab566-39e1-4144-c529-1b3ff21ca8dc"
      },
      "execution_count": 10,
      "outputs": [
        {
          "name": "stdout",
          "output_type": "stream",
          "text": [
            "Data da sessão: Foi no dia 16 de maio de 2025.\n",
            "Principais tópicos abordados (palavras-chave): Ansiedade social, dificuldades de comunicação no trabalho, autoestima.\n",
            "Intervenções utilizadas: Utilizei a reestruturação cognitiva e uma introdução à Técnica de Dessensibilização Sistemática.\n",
            "Suas observações sobre o paciente: Paciente apresentou maior abertura emocional que em sessões anteriores, demonstrou consciência das distorções cognitivas, mas ainda com resistência a exposições práticas.\n",
            "Seus sentimentos e reações durante a sessão: Me senti conectada, mas também um pouco frustrada com a lentidão do processo. Tive que regular minha expectativa de progresso.\n",
            "Próximos passos/plano de ação: Propor exercícios graduais de exposição, revisar pensamentos automáticos, e aprofundar a dessensibilização sistemática nas próximas sessões.\n",
            "Dificuldades ou desafios encontrados: Houve resistência em se comprometer com tarefas entre sessões. Também tive dificuldade em encontrar o equilíbrio entre acolher e confrontar.\n",
            "Qual o seu objetivo principal para esta reflexão? Entender melhor como aplicar a técnica de dessensibilização sistemática neste caso e como manejar minha própria frustração diante da resistência do paciente.\n"
          ]
        }
      ]
    },
    {
      "cell_type": "code",
      "source": [
        "# Criando o prompt para o Gemini\n",
        "prompt_reflexo_com_busca = f\"\"\"\n",
        "Refelxão da Sessão:\n",
        "\n",
        "Data da Sessão: {data_sessao}\n",
        "Principais Tópicos Abordados: {topicos}\n",
        "Intervenções Utilizadas: {intervencoes}\n",
        "Observações do Psicólogo: {observacoes}\n",
        "Sentimentos e Reações do Psicólogo: {sentimentos_psicologo}\n",
        "Próximos Passos/Plano de Ação: {proximos_passos}\n",
        "Dificuldades ou Desafios Encontrados: {dificuldades}\n",
        "\n",
        "Objetivo da Reflexão: {objetivo_reflexao}\n",
        "\n",
        "Gere insights e reflexões relevantes para o psicólogo com base nas informações acima.\n",
        "Utilize a busca do Google para obter informações adicionais relevantes que possam enriquecer a reflexão,\n",
        "especialmente sobre a 'Técnica de Dessensibilização Sistemática' e estratégias para lidar com a resistência do paciente em terapia.\n",
        "\"\"\"\n",
        "\n",
        "# Gerando a resposta com modelo (sem a configuração extra por enquanto)\n",
        "response = model.generate_content(prompt_reflexo_com_busca)\n",
        "\n",
        "# Exibindo a resposta na tela\n",
        "display(Markdown(f\"Resposta:\\n {response.text}\"))\n",
        "\n"
      ],
      "metadata": {
        "id": "pzsx2DTPgw94",
        "colab": {
          "base_uri": "https://localhost:8080/",
          "height": 1000
        },
        "outputId": "23802ec0-b7a0-4ba1-9f95-b1f16924be01"
      },
      "execution_count": 11,
      "outputs": [
        {
          "output_type": "display_data",
          "data": {
            "text/plain": [
              "<IPython.core.display.Markdown object>"
            ],
            "text/markdown": "Resposta:\n ## Reflexão da Sessão: Análise Detalhada e Estratégias de Aprimoramento\n\nCom base na sua reflexão da sessão de 16 de maio de 2025, aqui estão alguns insights e reflexões, complementados com informações relevantes do Google, para te auxiliar a entender melhor o caso e aprimorar sua abordagem:\n\n**Análise Detalhada da Sessão:**\n\n*   **Abertura Emocional:** A maior abertura emocional do paciente é um avanço significativo. Isso indica um fortalecimento da aliança terapêutica e da confiança na relação. É crucial nutrir esse espaço seguro.\n*   **Consciência das Distorções Cognitivas:** A consciência das distorções é um passo importante na reestruturação cognitiva. O paciente consegue identificar padrões de pensamento disfuncionais, o que facilita o processo de mudança.\n*   **Resistência à Exposição:** A resistência à exposição prática é um ponto crítico. Isso pode indicar medo intenso, insegurança ou falta de confiança na capacidade de lidar com as situações temidas.\n*   **Sentimentos do Psicólogo:** Sua conexão com o paciente é valiosa, mas a frustração é compreensível diante da lentidão. A regulação da expectativa é fundamental para evitar burnout e manter a empatia.\n*   **Resistência às Tarefas:** A falta de compromisso com as tarefas entre sessões é um obstáculo. Isso pode estar relacionado à própria ansiedade social, medo do fracasso ou falta de clareza sobre os benefícios das tarefas.\n*   **Equilíbrio Acolhimento/Confrontação:** Encontrar esse equilíbrio é um desafio constante. O acolhimento fortalece a aliança, enquanto a confrontação suave incentiva a mudança.\n\n**Reflexões e Insights:**\n\n1.  **Dessensibilização Sistemática: Refinando a Aplicação:**\n\n    *   **Revisão Teórica:** Reforce seus conhecimentos sobre a técnica de Dessensibilização Sistemática (DS). Certifique-se de estar confortável com os princípios básicos, o processo de construção da hierarquia de ansiedade, o treinamento em relaxamento e a aplicação gradual das cenas ansiogênicas.\n    *   **Personalização da Hierarquia:** A hierarquia de ansiedade precisa ser *extremamente* personalizada e relevante para a experiência do paciente. Reavalie a hierarquia que você propôs. Ela pode ser muito genérica ou conter saltos muito grandes entre os itens. Comece com situações *muito* brandas e gradualmente avance.\n    *   **Relaxamento:** O treinamento em relaxamento é crucial. Certifique-se de que o paciente domina técnicas de relaxamento (respiração diafragmática, relaxamento muscular progressivo, etc.) e consegue acessá-las sob demanda. A qualidade do relaxamento influencia diretamente o sucesso da DS.\n    *   **Imaginação:** Certifique-se de que o paciente consegue visualizar as cenas de forma clara e vívida. Se a imaginação for um problema, considere usar realidade virtual (se disponível) ou técnicas de visualização guiada mais detalhadas.\n    *   **Ritmo:** Seja flexível com o ritmo. Se o paciente sentir muita ansiedade em um determinado ponto, volte para um nível mais baixo e avance mais lentamente.\n    *   **Exposição In Vivo:** A DS é tradicionalmente feita com imaginação. Mas você pode usar uma combinação da DS com exposição *in vivo*, especialmente se a resistência à imaginação for alta. Isso significa que, depois de praticar a cena na imaginação, o paciente tenta a situação real com o seu suporte.\n\n2.  **Manejando a Resistência:**\n\n    *   **Investigue a Resistência:** Explore a resistência do paciente com curiosidade e empatia. Pergunte sobre seus medos, preocupações e crenças sobre a exposição. O que o impede de se comprometer com as tarefas?\n    *   **Reenquadramento Cognitivo:** Utilize a reestruturação cognitiva para desafiar os pensamentos negativos associados à exposição. Por exemplo, ajude o paciente a questionar a probabilidade de resultados negativos e a avaliar suas habilidades de enfrentamento.\n    *   **Pequenos Passos:** Comece com tarefas *extremamente* pequenas e alcançáveis. O objetivo inicial não é superar a ansiedade, mas sim construir confiança e reforçar a crença de que ele consegue lidar com a situação.\n    *   **Reforço Positivo:** Celebre cada pequeno progresso. Reconheça o esforço do paciente, mesmo que ele não tenha atingido o resultado esperado.\n    *   **Negociação:** Negocie as tarefas com o paciente. Dê a ele algum controle sobre o processo. Por exemplo, ele pode escolher a ordem das tarefas ou modificar a forma como as executa.\n    *   **Motivação:** Explore as motivações do paciente para superar a ansiedade social. O que ele espera ganhar ao se tornar mais confiante e socialmente engajado? Conecte as tarefas aos objetivos de longo prazo do paciente.\n    *   **Foco na Aliança Terapêutica:** A aliança terapêutica é um preditor importante de sucesso na terapia. Continue investindo no relacionamento com o paciente, demonstrando empatia, compreensão e aceitação.\n    *   **Mindfulness:** Incorpore exercícios de mindfulness para ajudar o paciente a estar presente no momento e a aceitar a ansiedade sem julgamento. Isso pode reduzir a resistência e aumentar a disposição para se engajar na exposição.\n\n3.  **Gerenciando sua Própria Frustração:**\n\n    *   **Supervisão:** Busque supervisão regularmente. Um supervisor pode oferecer uma perspectiva externa sobre o caso, ajudá-lo a identificar seus próprios padrões de pensamento e comportamento, e fornecer suporte emocional.\n    *   **Autocompaixão:** Seja gentil consigo mesmo. Lembre-se de que a terapia é um processo complexo e que nem todos os pacientes progridem no mesmo ritmo.\n    *   **Expectativas Realistas:** Ajuste suas expectativas. Concentre-se em pequenos progressos e no processo de mudança, em vez de se fixar em resultados imediatos.\n    *   **Autocuidado:** Priorize o autocuidado para evitar burnout. Reserve tempo para atividades que lhe tragam alegria e relaxamento.\n\n**Próximos Passos/Plano de Ação (Expandido):**\n\n1.  **Revisar e Personalizar a Hierarquia:** Discutir com o paciente as situações específicas que causam ansiedade, buscando detalhes concretos e emoções associadas.\n2.  **Aprofundar o Treinamento em Relaxamento:** Garantir que o paciente pratique as técnicas de relaxamento diariamente e se sinta confortável em utilizá-las em situações reais.\n3.  **Explorar a Resistência:** Dedicar uma parte da sessão para entender as razões por trás da resistência às tarefas.\n4.  **Negociar Tarefas Pequenas e Alcançáveis:** Definir em conjunto com o paciente tarefas que sejam desafiadoras, mas não aterrorizantes.\n5.  **Revisar Pensamentos Automáticos:** Continuar a reestruturação cognitiva, identificando e desafiando os pensamentos negativos que surgem antes, durante e depois das situações sociais.\n6.  **Monitorar o Progresso:** Acompanhar de perto o progresso do paciente e ajustar o plano de tratamento conforme necessário.\n7.  **Supervisão:** Apresentar o caso em supervisão para obter feedback e orientação adicionais.\n\n**Recursos Adicionais (Google):**\n\n*   **\"Dessensibilização Sistemática\":** Pesquise artigos científicos, vídeos e guias práticos sobre a técnica. Foque em artigos que abordem a aplicação da DS em casos de ansiedade social.\n*   **\"Resistência em Terapia Cognitivo-Comportamental\":** Explore artigos e livros que ofereçam estratégias para lidar com a resistência do paciente em terapia TCC.\n*   **\"Aliança Terapêutica\":** Reforce seus conhecimentos sobre a importância da aliança terapêutica e como fortalecê-la.\n\nAo aprofundar sua compreensão da DS, abordar a resistência com empatia e ajustar suas expectativas, você estará melhor equipada para ajudar o paciente a superar a ansiedade social e alcançar seus objetivos terapêuticos. Lembre-se, a paciência e a persistência são fundamentais no processo terapêutico.\n"
          },
          "metadata": {}
        }
      ]
    }
  ]
}